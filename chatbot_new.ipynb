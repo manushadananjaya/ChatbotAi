{
  "nbformat": 4,
  "nbformat_minor": 0,
  "metadata": {
    "colab": {
      "provenance": [],
      "authorship_tag": "ABX9TyOCXzZsUTf0iNkUaxklmzWY",
      "include_colab_link": true
    },
    "kernelspec": {
      "name": "python3",
      "display_name": "Python 3"
    },
    "language_info": {
      "name": "python"
    }
  },
  "cells": [
    {
      "cell_type": "markdown",
      "metadata": {
        "id": "view-in-github",
        "colab_type": "text"
      },
      "source": [
        "<a href=\"https://colab.research.google.com/github/manushadananjaya/ChatbotAi/blob/dev/chatbot_new.ipynb\" target=\"_parent\"><img src=\"https://colab.research.google.com/assets/colab-badge.svg\" alt=\"Open In Colab\"/></a>"
      ]
    },
    {
      "cell_type": "markdown",
      "source": [
        "Importing Packages"
      ],
      "metadata": {
        "id": "f1eY5HIAcX4L"
      }
    },
    {
      "cell_type": "code",
      "execution_count": 16,
      "metadata": {
        "id": "-YzI1NZIcV60"
      },
      "outputs": [],
      "source": [
        "import nltk\n",
        "from nltk.chat.util import Chat , reflections\n",
        "import spacy"
      ]
    },
    {
      "cell_type": "markdown",
      "source": [
        "Load English Tokenizer"
      ],
      "metadata": {
        "id": "tCHl6wSpcXV0"
      }
    },
    {
      "cell_type": "code",
      "source": [
        "nlp = spacy.load(\"en_core_web_sm\")"
      ],
      "metadata": {
        "id": "CsA9ZioqcjIm"
      },
      "execution_count": 17,
      "outputs": []
    },
    {
      "cell_type": "code",
      "source": [
        "pairs = [\n",
        "    [\n",
        "        r\"my name is (.*)\",\n",
        "        [\"Hello %1, how can I assist you today?\",]\n",
        "    ],\n",
        "    [\n",
        "        r\"what is your name?\",\n",
        "        [\"My name is Chatbot and I'm here to assist you.\",]\n",
        "    ],\n",
        "    [\n",
        "        r\"how are you ?\",\n",
        "        [\"I'm doing well, thank you!\", \"I'm fine, thanks for asking.\",]\n",
        "    ],\n",
        "    [\n",
        "        r\"what can you do\",\n",
        "        [\"I can assist you with various tasks such as providing information, answering questions, and more.\",]\n",
        "    ],\n",
        "    [\n",
        "        r\"(.*) (location|located) ?\",\n",
        "        [\"I'm just a virtual assistant, but you can find me wherever you need me!\",]\n",
        "    ],\n",
        "    [\n",
        "        r\"where is (.*)\",\n",
        "        [\"The location of %1 is unknown to me.\",]\n",
        "    ],\n",
        "    [\n",
        "        r\"(.*) help (.*)\",\n",
        "        [\"Sure, I'd be happy to help. What do you need assistance with?\",]\n",
        "    ],\n",
        "    [\n",
        "        r\"(.*) (weather|temperature) in (.*)\",\n",
        "        [\"Let me check the weather for %3...\", \"I'm fetching the current weather information for %3...\",]\n",
        "    ],\n",
        "    [\n",
        "        r\"quit\",\n",
        "        [\"Bye, take care. Have a great day!\", \"Goodbye!\"]\n",
        "    ],\n",
        "]"
      ],
      "metadata": {
        "id": "FWuuv2hvgdhn"
      },
      "execution_count": 18,
      "outputs": []
    },
    {
      "cell_type": "markdown",
      "source": [
        "Creating chatbot"
      ],
      "metadata": {
        "id": "UGvoxQ0Yc0qq"
      }
    },
    {
      "cell_type": "code",
      "source": [
        "def chatbot():\n",
        "    print(\"Hi! I'm Chatbot. How can I assist you today?\")\n",
        "    chat = Chat(pairs, reflections)\n",
        "\n",
        "    while True:\n",
        "        user_input = input(\"You: \")\n",
        "        if user_input.lower() == 'quit':\n",
        "            print(\"Chatbot: Bye! Take care.\")\n",
        "            break\n",
        "\n",
        "        # Perform entity recognition using spaCy\n",
        "\n",
        "        doc = nlp(user_input)\n",
        "        entities = [ent.text for ent in doc.ents]\n",
        "\n",
        "        # Incorporate entities into user input for better response generation\n",
        "        user_input_with_entities = user_input\n",
        "        for ent in entities:\n",
        "            user_input_with_entities = user_input_with_entities.replace(ent, f\"[{ent}]\")\n",
        "\n",
        "        response = chat.respond(user_input_with_entities)\n",
        "        print(\"Chatbot:\", response)\n",
        "\n",
        "chatbot()"
      ],
      "metadata": {
        "colab": {
          "base_uri": "https://localhost:8080/"
        },
        "id": "FN27g9JUc3Ml",
        "outputId": "d1ea77c2-f2e7-4767-d399-e75b237248ad"
      },
      "execution_count": null,
      "outputs": [
        {
          "metadata": {
            "tags": null
          },
          "name": "stdout",
          "output_type": "stream",
          "text": [
            "Hi! I'm Chatbot. How can I assist you today?\n",
            "Chatbot: My name is Chatbot and I'm here to assist you.\n"
          ]
        }
      ]
    }
  ]
}